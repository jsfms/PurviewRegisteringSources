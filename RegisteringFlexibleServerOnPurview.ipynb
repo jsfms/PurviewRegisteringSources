{
 "cells": [
  {
   "attachments": {},
   "cell_type": "markdown",
   "metadata": {
    "application/vnd.databricks.v1+cell": {
     "cellMetadata": {},
     "inputWidgets": {},
     "nuid": "86433cf5-475c-4b50-b2dd-0dddb81e4c4e",
     "showTitle": false,
     "title": ""
    }
   },
   "source": [
    "<h5> Installing requirements </h5>"
   ]
  },
  {
   "cell_type": "code",
   "execution_count": null,
   "metadata": {
    "application/vnd.databricks.v1+cell": {
     "cellMetadata": {
      "byteLimit": 2048000,
      "rowLimit": 10000
     },
     "inputWidgets": {},
     "nuid": "f85a0eb5-7a33-43fd-a398-bd7a817aa9dc",
     "showTitle": false,
     "title": ""
    }
   },
   "outputs": [],
   "source": [
    "! pip install azure-identity\n",
    "! pip install azure-purview-scanning\n",
    "! pip install azure-purview-administration\n",
    "! pip install azure-purview-catalog\n",
    "! pip install azure-purview-account\n",
    "! pip install azure-purview-scanning\n",
    "! pip install azure-core"
   ]
  },
  {
   "attachments": {},
   "cell_type": "markdown",
   "metadata": {
    "application/vnd.databricks.v1+cell": {
     "cellMetadata": {},
     "inputWidgets": {},
     "nuid": "ba5f752b-3f09-44d1-a80d-4da9f2a57b5d",
     "showTitle": false,
     "title": ""
    }
   },
   "source": [
    "<h5>Importing requirements to use them </h5>"
   ]
  },
  {
   "cell_type": "code",
   "execution_count": null,
   "metadata": {
    "application/vnd.databricks.v1+cell": {
     "cellMetadata": {
      "byteLimit": 2048000,
      "rowLimit": 10000
     },
     "inputWidgets": {},
     "nuid": "0b2aac6a-0b7a-4842-8710-a6d09c04eb78",
     "showTitle": false,
     "title": ""
    }
   },
   "outputs": [],
   "source": [
    "from azure.identity import ClientSecretCredential \n",
    "from azure.core.exceptions import HttpResponseError\n",
    "from azure.purview.administration.account import PurviewAccountClient\n",
    "from azure.purview.scanning import PurviewScanningClient"
   ]
  },
  {
   "attachments": {},
   "cell_type": "markdown",
   "metadata": {
    "application/vnd.databricks.v1+cell": {
     "cellMetadata": {},
     "inputWidgets": {},
     "nuid": "17fc766f-e9c2-4568-9660-5d915a5ca9a4",
     "showTitle": false,
     "title": ""
    }
   },
   "source": [
    "<h5>You will need to create a Service Principal if you don't have one yet:<h5>\n",
    "<a>https://learn.microsoft.com/en-us/azure/active-directory/develop/howto-create-service-principal-portal</a>\n",
    "\n",
    "You must assign the data source admin role to your service principal in the collection where you intend to register your source"
   ]
  },
  {
   "cell_type": "code",
   "execution_count": null,
   "metadata": {
    "application/vnd.databricks.v1+cell": {
     "cellMetadata": {
      "byteLimit": 2048000,
      "rowLimit": 10000
     },
     "inputWidgets": {},
     "nuid": "d32987d4-e593-4da1-8c5c-af0f430fa126",
     "showTitle": false,
     "title": ""
    }
   },
   "outputs": [],
   "source": [
    "client_id = \"<CLIENT_ID>\"                                                   # The Service Principal ID.\n",
    "client_secret = \"<CLIENT_SECRET>\"                                           # The Service Principal Secret.\n",
    "tenant_id = \"<TENANT_ID>\"                                                   # Your Tenant ID.\n",
    "reference_name_purview = \"<PVIEW_ACCOUNT_NAME>\"                             # Your Purview Account Name.\n",
    "subscription_ID=\"<SUBSCRIPTION_ID>\"                                         # Subscription ID where your SGBD is hosted.\n",
    "rg_name = \"<RESOURCE_GROUP_NAME\"                                            # ResourceGroup name where your SGBD is hosted.\n",
    "collection_name = \"COLLECTION_NAME\"                                         # The Purview's Collection Name where I'll include this source.\n",
    "ds_name = \"<DATA_SOURCE_REGISTRATION_NAME>\"                                 # The datasource name. It'll appers on \"Data Map\" tab.\n",
    "endpoint=\"***.postgres.database.azure.com\"                                  # The endpoint of your SGBD.\n",
    "resource_ID=\"You can get it by clicking 'JSON View' at Overview SGBD page\"  # The SGBD Resource ID\n",
    "location =\"BrazilSouth\"                                                     # The SGBD's location.\n"
   ]
  },
  {
   "attachments": {},
   "cell_type": "markdown",
   "metadata": {
    "application/vnd.databricks.v1+cell": {
     "cellMetadata": {},
     "inputWidgets": {},
     "nuid": "f757c20b-1218-4294-917f-d47931e3fae2",
     "showTitle": false,
     "title": ""
    }
   },
   "source": [
    "<h5>Functions to perform the authentication and clients creation </h5>"
   ]
  },
  {
   "cell_type": "code",
   "execution_count": null,
   "metadata": {
    "application/vnd.databricks.v1+cell": {
     "cellMetadata": {},
     "inputWidgets": {},
     "nuid": "9166a4b5-495b-4e6a-8b46-503a63040be5",
     "showTitle": false,
     "title": ""
    }
   },
   "outputs": [],
   "source": [
    "# Here we are bringing together the variables above to pass they as parameter to create a credential object\n",
    "def get_credentials():\n",
    "\tcredentials = ClientSecretCredential(client_id=client_id, client_secret=client_secret, tenant_id=tenant_id)\n",
    "\treturn credentials\n",
    "\n",
    "#Here we are creating a function to authenticating on Purview's API and that returns a Purview's client to perform the registration\n",
    "def get_purview_client():\n",
    "\tcredentials = get_credentials()\n",
    "\tclient = PurviewScanningClient(endpoint=f\"https://{reference_name_purview}.scan.purview.azure.com\", credential=credentials, logging_enable=True)  \n",
    "\treturn client\n",
    "\n",
    "#Here we are creating a function to authenticating on Purview's API (PurviewAccount) and that returns a Purview's client to verify the collection name\n",
    "def get_admin_client():\n",
    "\tcredentials = get_credentials()\n",
    "\tclient = PurviewAccountClient(endpoint=f\"https://{reference_name_purview}.purview.azure.com/\", credential=credentials, logging_enable=True)\n",
    "\treturn client"
   ]
  },
  {
   "attachments": {},
   "cell_type": "markdown",
   "metadata": {
    "application/vnd.databricks.v1+cell": {
     "cellMetadata": {},
     "inputWidgets": {},
     "nuid": "7b11070e-a600-41a9-b265-fd4265b80072",
     "showTitle": false,
     "title": ""
    }
   },
   "source": [
    "<h5>Prepareing data to perform the registration<h5>"
   ]
  },
  {
   "cell_type": "code",
   "execution_count": null,
   "metadata": {
    "application/vnd.databricks.v1+cell": {
     "cellMetadata": {
      "byteLimit": 2048000,
      "rowLimit": 10000
     },
     "inputWidgets": {},
     "nuid": "436fa603-4311-41ab-b9b9-3c133caf00fb",
     "showTitle": false,
     "title": ""
    }
   },
   "outputs": [],
   "source": [
    "\n",
    "#Creating a client\n",
    "try:\n",
    "\tadmin_client = get_admin_client()\n",
    "except ValueError as e:\n",
    "        print(e)\n",
    "\n",
    "# Adjusting the collection name if needed\n",
    "collection_list = admin_client.collections.list_collections()\n",
    "for collection in collection_list:\n",
    "\tif collection[\"friendlyName\"].lower() == collection_name.lower():\n",
    "\t\tcollection_name = collection[\"name\"]\n",
    "\n",
    "#Defining the kind of source by the endpoint\n",
    "if endpoint.endswith(\".mysql.database.azure.com\"):\n",
    "    kind='AzureMySQL'\n",
    "    port=3306  #If you are using another port, change it. This is the default port\n",
    "if endpoint.endswith(\".postgres.database.azure.com\"):\n",
    "    kind='AzurePostgreSQL' \n",
    "    port=5432 #If you are using another port, change it. This is the default port\n",
    "    \n"
   ]
  },
  {
   "cell_type": "code",
   "execution_count": null,
   "metadata": {
    "application/vnd.databricks.v1+cell": {
     "cellMetadata": {},
     "inputWidgets": {},
     "nuid": "f432b572-e82e-4e9d-b340-2385aaf1cc58",
     "showTitle": false,
     "title": ""
    }
   },
   "outputs": [],
   "source": [
    "#Creating the body to use in the API request\n",
    "body_input = {\n",
    "  \"kind\": kind,\n",
    "  \"name\": ds_name,\n",
    "  \"properties\": {\n",
    "    \"endpoint\": endpoint,\n",
    "    \"location\": \"BrazilSouth\",\n",
    "    \"port\": port,\n",
    "    \"resourceGroup\": rg_name,\n",
    "    \"resourceId\": resource_ID,\n",
    "    \"resourceName\": \"mysqlFlexible\",\n",
    "    \"serverEndpoint\": endpoint,\n",
    "    \"subscriptionId\": \"17e1e007-40fb-49a2-a22b-ab5269dcd731\",\n",
    "    \"collection\": {\n",
    "      \"referenceName\": collection_name,\n",
    "      \"type\": \"CollectionReference\"\n",
    "    }\n",
    "  }\n",
    "}"
   ]
  },
  {
   "attachments": {},
   "cell_type": "markdown",
   "metadata": {
    "application/vnd.databricks.v1+cell": {
     "cellMetadata": {},
     "inputWidgets": {},
     "nuid": "e2688f06-9222-459e-8e03-a19bb0020f3a",
     "showTitle": false,
     "title": ""
    }
   },
   "source": [
    "<h5> Finally, we are able to register the data source </h5>"
   ]
  },
  {
   "cell_type": "code",
   "execution_count": null,
   "metadata": {
    "application/vnd.databricks.v1+cell": {
     "cellMetadata": {},
     "inputWidgets": {},
     "nuid": "e26a2a0b-b38c-4eec-a7f0-4d402768d132",
     "showTitle": false,
     "title": ""
    }
   },
   "outputs": [],
   "source": [
    "try:\n",
    "\tclient = get_purview_client()\n",
    "except ValueError as e:\n",
    "        print(e)\n",
    "\n",
    "try:\n",
    "\tresponse = client.data_sources.create_or_update(ds_name, body=body_input)\n",
    "\tprint(response)\n",
    "\tprint(f\"Data source {ds_name} successfully created or updated\")\n",
    "except HttpResponseError as e:\n",
    "    print(e)"
   ]
  }
 ],
 "metadata": {
  "application/vnd.databricks.v1+notebook": {
   "dashboards": [],
   "language": "python",
   "notebookMetadata": {
    "pythonIndentUnit": 4
   },
   "notebookName": "RegisterFlexibleServerPurview",
   "widgets": {}
  },
  "language_info": {
   "name": "python"
  }
 },
 "nbformat": 4,
 "nbformat_minor": 0
}
